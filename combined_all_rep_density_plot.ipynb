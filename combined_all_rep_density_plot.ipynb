{
 "cells": [
  {
   "cell_type": "code",
   "execution_count": null,
   "id": "c0ad1623-88ea-48d8-acfd-e415472861ec",
   "metadata": {},
   "outputs": [],
   "source": [
    "import numpy as np\n",
    "import pandas as pd\n",
    "import matplotlib.pyplot as plt\n",
    "import seaborn as sns"
   ]
  },
  {
   "cell_type": "code",
   "execution_count": null,
   "id": "66c094fa-d25d-40ec-a7f8-b381bcc6e765",
   "metadata": {},
   "outputs": [],
   "source": [
    "# Function to process a single .xvg file\n",
    "def process_xvg(file_path):\n",
    "    try:\n",
    "        # Read the file, ignoring lines starting with '#' or '@'\n",
    "        data = np.genfromtxt(\n",
    "            [line for line in open(file_path).read().splitlines() if not line.startswith(('#', '@'))]\n",
    "        )\n",
    "        # Return the data column (skip the Time column)\n",
    "        return pd.Series(data[:, 1])\n",
    "    except Exception as e:\n",
    "        print(f\"Error processing file {file_path}: {e}\")\n",
    "        return None"
   ]
  },
  {
   "cell_type": "code",
   "execution_count": null,
   "id": "47f567b1-c4ed-4d73-80dd-883af61fa6a3",
   "metadata": {},
   "outputs": [],
   "source": [
    "# Function to combine all replicates into a single DataFrame\n",
    "def combine_replicates(xvg_files):\n",
    "    combined_data = pd.DataFrame()\n",
    "    for i, file_path in enumerate(xvg_files):\n",
    "        data = process_xvg(file_path)\n",
    "        if data is not None:\n",
    "            combined_data[f\"Replicate_{i+1}\"] = data\n",
    "    # Combine all replicates into a single column\n",
    "    combined_data = combined_data.melt(value_vars=combined_data.columns, var_name=\"Replicate\", value_name=\"Data\")\n",
    "    return combined_data"
   ]
  },
  {
   "cell_type": "code",
   "execution_count": null,
   "id": "5cea2790-31be-450e-a10e-03ee9e78f0df",
   "metadata": {},
   "outputs": [],
   "source": [
    "# Function to plot density for the combined data\n",
    "def plot_combined_density(xvg_files, title, output_png, x_label=\"Data\"):\n",
    "    # Combine all replicates into a single DataFrame\n",
    "    combined_data = combine_replicates(xvg_files)\n",
    "\n",
    "    if not combined_data.empty:\n",
    "        plt.figure(figsize=(8, 6))\n",
    "\n",
    "        # Plot density for the combined data\n",
    "        sns.kdeplot(combined_data[\"Data\"], fill=True, color=\"blue\", label=\"Combined data\")\n",
    "\n",
    "        # Customize the plot\n",
    "        plt.title(title, fontsize=12, weight='bold')\n",
    "        plt.xlabel(x_label, fontsize=12, weight='bold')\n",
    "        plt.ylabel('Density', fontsize=12, weight='bold')\n",
    "\n",
    "        plt.xticks(fontsize=10, weight='bold')\n",
    "        plt.yticks(fontsize=10, weight='bold')\n",
    "\n",
    "        plt.legend(loc='upper right')\n",
    "        plt.tight_layout()\n",
    "\n",
    "        # Save the plot\n",
    "        plt.savefig(output_png, bbox_inches='tight')\n",
    "        plt.show()\n",
    "        print(f\"Saved combined density plot as {output_png}\")\n",
    "    else:\n",
    "        print(\"No data to plot.\")"
   ]
  },
  {
   "cell_type": "code",
   "execution_count": null,
   "id": "d1b5b632-556d-4eae-a941-2a33e4fb3b9d",
   "metadata": {},
   "outputs": [],
   "source": [
    "# Example usage for RMSD data\n",
    "xvg_files_rmsd = [\n",
    "    \"sim_ana/rmsd/pro_BB_rmsd_rep1.xvg\",\n",
    "    \"sim_ana/rmsd/pro_BB_rmsd_rep2.xvg\",\n",
    "    \"sim_ana/rmsd/pro_BB_rmsd_rep3.xvg\",\n",
    "    \"sim_ana/rmsd/pro_BB_rmsd_rep4.xvg\",\n",
    "    \"sim_ana/rmsd/pro_BB_rmsd_rep5.xvg\"\n",
    "]\n",
    "\n",
    "# Plot combined density for RMSD data\n",
    "plot_combined_density(\n",
    "    xvg_files_rmsd,\n",
    "    title=\"RMSD Density (combined all replicates)\",\n",
    "    output_png=\"img_ana/combined_rmsd_density_plot.png\",\n",
    "    x_label=\"RMSD (nm)\"\n",
    ")"
   ]
  },
  {
   "cell_type": "code",
   "execution_count": null,
   "id": "ed9e759e-8411-418c-8e84-fdfcfb622711",
   "metadata": {},
   "outputs": [],
   "source": [
    "# Example usage for distance data\n",
    "xvg_files_distance = [\n",
    "    \"sim_ana/mindist/ligand_Y37_rep1.xvg\",\n",
    "    \"sim_ana/mindist/ligand_Y37_rep2.xvg\",\n",
    "    \"sim_ana/mindist/ligand_Y37_rep3.xvg\",\n",
    "    \"sim_ana/mindist/ligand_Y37_rep4.xvg\",\n",
    "    \"sim_ana/mindist/ligand_Y37_rep5.xvg\"\n",
    "]\n",
    "\n",
    "# Plot combined density for distance data\n",
    "plot_combined_density(\n",
    "    xvg_files_distance,\n",
    "    title=\"Distance Density (combined all replicates)\",\n",
    "    output_png=\"img_ana/combined_distance_density_plot.png\",\n",
    "    x_label=\"Distance (nm)\"\n",
    ")"
   ]
  },
  {
   "cell_type": "code",
   "execution_count": null,
   "id": "1d884a2d-691c-454a-bd73-f6b306bb54c9",
   "metadata": {},
   "outputs": [],
   "source": []
  }
 ],
 "metadata": {
  "kernelspec": {
   "display_name": "Python 3 (ipykernel)",
   "language": "python",
   "name": "python3"
  },
  "language_info": {
   "codemirror_mode": {
    "name": "ipython",
    "version": 3
   },
   "file_extension": ".py",
   "mimetype": "text/x-python",
   "name": "python",
   "nbconvert_exporter": "python",
   "pygments_lexer": "ipython3",
   "version": "3.12.0"
  }
 },
 "nbformat": 4,
 "nbformat_minor": 5
}
