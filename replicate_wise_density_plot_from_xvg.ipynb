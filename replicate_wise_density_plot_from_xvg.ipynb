{
 "cells": [
  {
   "cell_type": "code",
   "execution_count": null,
   "metadata": {},
   "outputs": [],
   "source": [
    "import numpy as np\n",
    "import pandas as pd\n",
    "import matplotlib.pyplot as plt\n",
    "import seaborn as sns"
   ]
  },
  {
   "cell_type": "code",
   "execution_count": null,
   "metadata": {},
   "outputs": [],
   "source": [
    "# Function to process a single .xvg file\n",
    "def process_xvg(file_path, group_name):\n",
    "    try:\n",
    "        # Read the file, ignoring lines starting with '#' or '@'\n",
    "        data = np.genfromtxt(\n",
    "            [line for line in open(file_path).read().splitlines() if not line.startswith(('#', '@'))]\n",
    "        )\n",
    "        # Convert to DataFrame\n",
    "        df = pd.DataFrame(data, columns=[\"Time\", f\"{group_name}\"])\n",
    "        return df\n",
    "    except Exception as e:\n",
    "        print(f\"Error processing file {file_path}: {e}\")\n",
    "        return None"
   ]
  },
  {
   "cell_type": "code",
   "execution_count": null,
   "metadata": {},
   "outputs": [],
   "source": [
    "# Function to combine multiple .xvg files into a single DataFrame\n",
    "def combine_xvg_files(xvg_files):\n",
    "    combined_df = None\n",
    "    for i, file_path in enumerate(xvg_files):\n",
    "        group_name = f\"Replicate_{i+1}\"\n",
    "        df = process_xvg(file_path, group_name)\n",
    "        if df is not None:\n",
    "            if combined_df is None:\n",
    "                combined_df = df\n",
    "            else:\n",
    "                combined_df = pd.merge(combined_df, df, on=\"Time\", how=\"outer\")\n",
    "    return combined_df"
   ]
  },
  {
   "cell_type": "code",
   "execution_count": null,
   "metadata": {},
   "outputs": [],
   "source": [
    "# Function to plot density for multiple datasets\n",
    "def plot_density(xvg_files, title, output_png, x_label, data_type):\n",
    "    # Combine all .xvg files into a single DataFrame\n",
    "    combined_df = combine_xvg_files(xvg_files)\n",
    "\n",
    "    if combined_df is not None:\n",
    "        plt.figure(figsize=(8, 6))\n",
    "\n",
    "        # Define colors for each replicate\n",
    "        colors = [\"red\", \"blue\", \"green\", \"purple\", \"orange\"]\n",
    "\n",
    "        # Plot density for each replicate\n",
    "        for i, column in enumerate(combined_df.columns[1:]):  # Skip the \"Time\" column\n",
    "            sns.kdeplot(combined_df[column], fill=True, color=colors[i], label=column)\n",
    "\n",
    "        # Customize the plot\n",
    "        plt.title(title, fontsize=12, weight='bold')\n",
    "        plt.xlabel(x_label, fontsize=12, weight='bold')\n",
    "        plt.ylabel('Density', fontsize=12, weight='bold')\n",
    "\n",
    "        plt.xticks(fontsize=10, weight='bold')\n",
    "        plt.yticks(fontsize=10, weight='bold')\n",
    "\n",
    "        plt.legend(loc='upper right')\n",
    "        plt.tight_layout()\n",
    "\n",
    "        # Save the plot\n",
    "        plt.savefig(output_png, bbox_inches='tight')\n",
    "        plt.show()\n",
    "        print(f\"Saved {data_type} density plot as {output_png}\")\n",
    "    else:\n",
    "        print(\"No data to plot.\")"
   ]
  },
  {
   "cell_type": "code",
   "execution_count": null,
   "metadata": {},
   "outputs": [],
   "source": [
    "# Example usage for RMSD data\n",
    "xvg_files_rmsd = [\n",
    "    \"sim_ana/rmsd/pro_BB_rmsd_rep1.xvg\",\n",
    "    \"sim_ana/rmsd/pro_BB_rmsd_rep2.xvg\",\n",
    "    \"sim_ana/rmsd/pro_BB_rmsd_rep3.xvg\",\n",
    "    \"sim_ana/rmsd/pro_BB_rmsd_rep4.xvg\",\n",
    "    \"sim_ana/rmsd/pro_BB_rmsd_rep5.xvg\"\n",
    "]\n",
    "\n",
    "# Plot density for RMSD data\n",
    "plot_density(\n",
    "    xvg_files_rmsd,\n",
    "    title=\"RMSD Density Plot\",\n",
    "    output_png=\"img_ana/rmsd_density_plot.png\",\n",
    "    x_label=\"RMSD (nm)\",\n",
    "    data_type=\"RMSD\"\n",
    ")"
   ]
  },
  {
   "cell_type": "code",
   "execution_count": null,
   "metadata": {},
   "outputs": [],
   "source": [
    "# Example usage for distance data\n",
    "xvg_files_distance = [\n",
    "    \"sim_ana/mindist/ligand_Y37_rep1.xvg\",\n",
    "    \"sim_ana/mindist/ligand_Y37_rep2.xvg\",\n",
    "    \"sim_ana/mindist/ligand_Y37_rep3.xvg\",\n",
    "    \"sim_ana/mindist/ligand_Y37_rep4.xvg\",\n",
    "    \"sim_ana/mindist/ligand_Y37_rep5.xvg\"\n",
    "]\n",
    "\n",
    "# Plot density for distance data\n",
    "plot_density(\n",
    "    xvg_files_distance,\n",
    "    title=\"Distance Density Plot\",\n",
    "    output_png=\"img_ana/mindist_density_plot.png\",\n",
    "    x_label=\"Distance (nm)\",\n",
    "    data_type=\"Distance\"\n",
    ")"
   ]
  },
  {
   "cell_type": "code",
   "execution_count": null,
   "metadata": {},
   "outputs": [],
   "source": []
  },
  {
   "cell_type": "code",
   "execution_count": null,
   "metadata": {},
   "outputs": [],
   "source": []
  }
 ],
 "metadata": {
  "kernelspec": {
   "display_name": "Python 3 (ipykernel)",
   "language": "python",
   "name": "python3"
  },
  "language_info": {
   "codemirror_mode": {
    "name": "ipython",
    "version": 3
   },
   "file_extension": ".py",
   "mimetype": "text/x-python",
   "name": "python",
   "nbconvert_exporter": "python",
   "pygments_lexer": "ipython3",
   "version": "3.12.0"
  }
 },
 "nbformat": 4,
 "nbformat_minor": 4
}
